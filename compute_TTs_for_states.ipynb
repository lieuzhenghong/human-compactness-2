{
 "cells": [
  {
   "cell_type": "code",
   "execution_count": 1,
   "metadata": {},
   "outputs": [],
   "source": [
    "import travel_time_utils as tt\n",
    "import rvp_utils\n",
    "import geopandas as gpd\n",
    "from tqdm import tqdm\n",
    "import warnings\n",
    "import datetime as dt\n",
    "import time\n",
    "import pickle\n",
    "import seaborn as sns\n",
    "import matplotlib.pyplot as plt\n",
    "import pandas as pd\n",
    "warnings.filterwarnings('ignore')\n",
    "pd.set_option(\"display.max_rows\", 500)"
   ]
  },
  {
   "cell_type": "code",
   "execution_count": 10,
   "metadata": {},
   "outputs": [],
   "source": [
    "states = \"connecticut georgia idaho iowa louisana maine maryland new_hampshire rhode_island utah wisconsin\".split()\n",
    "fips = \"09 13 16 19 22 23 24 33 44 49 55\".split()\n",
    "state_fips_dict = dict(zip(states,fips))"
   ]
  },
  {
   "cell_type": "code",
   "execution_count": 67,
   "metadata": {},
   "outputs": [
    {
     "name": "stdout",
     "output_type": "stream",
     "text": [
      "Working on louisiana...\n",
      " -- Reading CD shapefile into memory...\n",
      "    -- There are 7 CDs in louisiana\n",
      " -- Reading KNN_SUM duration matrix from memory...\n",
      " -- Reading pairwise duration matrix from memory...\n",
      " -- Creating RVPs for each CD...\n"
     ]
    },
    {
     "name": "stderr",
     "output_type": "stream",
     "text": [
      "  0%|          | 0/7 [00:00<?, ?it/s]"
     ]
    },
    {
     "name": "stdout",
     "output_type": "stream",
     "text": [
      " -- Computing district APTTs...\n"
     ]
    },
    {
     "name": "stderr",
     "output_type": "stream",
     "text": [
      " 43%|████▎     | 3/7 [00:00<00:01,  3.94it/s]\n"
     ]
    },
    {
     "ename": "IndexError",
     "evalue": "list index out of range",
     "output_type": "error",
     "traceback": [
      "\u001b[0;31m---------------------------------------------------------------------------\u001b[0m",
      "\u001b[0;31mIndexError\u001b[0m                                Traceback (most recent call last)",
      "\u001b[0;32m<timed exec>\u001b[0m in \u001b[0;36m<module>\u001b[0;34m\u001b[0m\n",
      "\u001b[0;32m~/Desktop/mggg/compactness_thesis/human-compactness/travel_time_utils.py\u001b[0m in \u001b[0;36mfind_APTT_of_region\u001b[0;34m(ids, pairwise_matrix)\u001b[0m\n\u001b[1;32m     18\u001b[0m \u001b[0;34m\u001b[0m\u001b[0m\n\u001b[1;32m     19\u001b[0m \u001b[0;32mdef\u001b[0m \u001b[0mfind_APTT_of_region\u001b[0m\u001b[0;34m(\u001b[0m\u001b[0mids\u001b[0m\u001b[0;34m,\u001b[0m \u001b[0mpairwise_matrix\u001b[0m\u001b[0;34m)\u001b[0m\u001b[0;34m:\u001b[0m\u001b[0;34m\u001b[0m\u001b[0;34m\u001b[0m\u001b[0m\n\u001b[0;32m---> 20\u001b[0;31m     \u001b[0mAPTT\u001b[0m \u001b[0;34m=\u001b[0m \u001b[0msum\u001b[0m\u001b[0;34m(\u001b[0m\u001b[0;34m[\u001b[0m\u001b[0mfind_APTT_from_point\u001b[0m\u001b[0;34m(\u001b[0m\u001b[0mpoint\u001b[0m\u001b[0;34m,\u001b[0m \u001b[0mids\u001b[0m\u001b[0;34m,\u001b[0m \u001b[0mpairwise_matrix\u001b[0m\u001b[0;34m)\u001b[0m \u001b[0;32mfor\u001b[0m \u001b[0mpoint\u001b[0m \u001b[0;32min\u001b[0m \u001b[0mids\u001b[0m\u001b[0;34m]\u001b[0m\u001b[0;34m)\u001b[0m\u001b[0;34m\u001b[0m\u001b[0;34m\u001b[0m\u001b[0m\n\u001b[0m\u001b[1;32m     21\u001b[0m     \u001b[0;32mreturn\u001b[0m \u001b[0mAPTT\u001b[0m \u001b[0;34m/\u001b[0m \u001b[0mlen\u001b[0m\u001b[0;34m(\u001b[0m\u001b[0mids\u001b[0m\u001b[0;34m)\u001b[0m\u001b[0;34m\u001b[0m\u001b[0;34m\u001b[0m\u001b[0m\n\u001b[1;32m     22\u001b[0m \u001b[0;34m\u001b[0m\u001b[0m\n",
      "\u001b[0;32m~/Desktop/mggg/compactness_thesis/human-compactness/travel_time_utils.py\u001b[0m in \u001b[0;36m<listcomp>\u001b[0;34m(.0)\u001b[0m\n\u001b[1;32m     18\u001b[0m \u001b[0;34m\u001b[0m\u001b[0m\n\u001b[1;32m     19\u001b[0m \u001b[0;32mdef\u001b[0m \u001b[0mfind_APTT_of_region\u001b[0m\u001b[0;34m(\u001b[0m\u001b[0mids\u001b[0m\u001b[0;34m,\u001b[0m \u001b[0mpairwise_matrix\u001b[0m\u001b[0;34m)\u001b[0m\u001b[0;34m:\u001b[0m\u001b[0;34m\u001b[0m\u001b[0;34m\u001b[0m\u001b[0m\n\u001b[0;32m---> 20\u001b[0;31m     \u001b[0mAPTT\u001b[0m \u001b[0;34m=\u001b[0m \u001b[0msum\u001b[0m\u001b[0;34m(\u001b[0m\u001b[0;34m[\u001b[0m\u001b[0mfind_APTT_from_point\u001b[0m\u001b[0;34m(\u001b[0m\u001b[0mpoint\u001b[0m\u001b[0;34m,\u001b[0m \u001b[0mids\u001b[0m\u001b[0;34m,\u001b[0m \u001b[0mpairwise_matrix\u001b[0m\u001b[0;34m)\u001b[0m \u001b[0;32mfor\u001b[0m \u001b[0mpoint\u001b[0m \u001b[0;32min\u001b[0m \u001b[0mids\u001b[0m\u001b[0;34m]\u001b[0m\u001b[0;34m)\u001b[0m\u001b[0;34m\u001b[0m\u001b[0;34m\u001b[0m\u001b[0m\n\u001b[0m\u001b[1;32m     21\u001b[0m     \u001b[0;32mreturn\u001b[0m \u001b[0mAPTT\u001b[0m \u001b[0;34m/\u001b[0m \u001b[0mlen\u001b[0m\u001b[0;34m(\u001b[0m\u001b[0mids\u001b[0m\u001b[0;34m)\u001b[0m\u001b[0;34m\u001b[0m\u001b[0;34m\u001b[0m\u001b[0m\n\u001b[1;32m     22\u001b[0m \u001b[0;34m\u001b[0m\u001b[0m\n",
      "\u001b[0;32m~/Desktop/mggg/compactness_thesis/human-compactness/travel_time_utils.py\u001b[0m in \u001b[0;36mfind_APTT_from_point\u001b[0;34m(point, ids, pairwise_matrix)\u001b[0m\n\u001b[1;32m     14\u001b[0m \u001b[0;34m\u001b[0m\u001b[0m\n\u001b[1;32m     15\u001b[0m \u001b[0;32mdef\u001b[0m \u001b[0mfind_APTT_from_point\u001b[0m\u001b[0;34m(\u001b[0m\u001b[0mpoint\u001b[0m\u001b[0;34m,\u001b[0m \u001b[0mids\u001b[0m\u001b[0;34m,\u001b[0m \u001b[0mpairwise_matrix\u001b[0m\u001b[0;34m)\u001b[0m\u001b[0;34m:\u001b[0m\u001b[0;34m\u001b[0m\u001b[0;34m\u001b[0m\u001b[0m\n\u001b[0;32m---> 16\u001b[0;31m     \u001b[0mAPTT\u001b[0m \u001b[0;34m=\u001b[0m \u001b[0msum\u001b[0m\u001b[0;34m(\u001b[0m\u001b[0;34m[\u001b[0m\u001b[0mpairwise_matrix\u001b[0m\u001b[0;34m[\u001b[0m\u001b[0mint\u001b[0m\u001b[0;34m(\u001b[0m\u001b[0mpoint\u001b[0m\u001b[0;34m)\u001b[0m\u001b[0;34m]\u001b[0m\u001b[0;34m[\u001b[0m\u001b[0mint\u001b[0m\u001b[0;34m(\u001b[0m\u001b[0mother_point\u001b[0m\u001b[0;34m)\u001b[0m\u001b[0;34m]\u001b[0m \u001b[0;32mfor\u001b[0m \u001b[0mother_point\u001b[0m \u001b[0;32min\u001b[0m \u001b[0mids\u001b[0m\u001b[0;34m]\u001b[0m\u001b[0;34m)\u001b[0m\u001b[0;34m\u001b[0m\u001b[0;34m\u001b[0m\u001b[0m\n\u001b[0m\u001b[1;32m     17\u001b[0m     \u001b[0;32mreturn\u001b[0m \u001b[0mAPTT\u001b[0m \u001b[0;34m/\u001b[0m \u001b[0;34m(\u001b[0m\u001b[0mlen\u001b[0m\u001b[0;34m(\u001b[0m\u001b[0mids\u001b[0m\u001b[0;34m)\u001b[0m \u001b[0;34m-\u001b[0m \u001b[0;36m1\u001b[0m\u001b[0;34m)\u001b[0m \u001b[0;31m# there are K+1 ids, including point\u001b[0m\u001b[0;34m\u001b[0m\u001b[0;34m\u001b[0m\u001b[0m\n\u001b[1;32m     18\u001b[0m \u001b[0;34m\u001b[0m\u001b[0m\n",
      "\u001b[0;32m~/Desktop/mggg/compactness_thesis/human-compactness/travel_time_utils.py\u001b[0m in \u001b[0;36m<listcomp>\u001b[0;34m(.0)\u001b[0m\n\u001b[1;32m     14\u001b[0m \u001b[0;34m\u001b[0m\u001b[0m\n\u001b[1;32m     15\u001b[0m \u001b[0;32mdef\u001b[0m \u001b[0mfind_APTT_from_point\u001b[0m\u001b[0;34m(\u001b[0m\u001b[0mpoint\u001b[0m\u001b[0;34m,\u001b[0m \u001b[0mids\u001b[0m\u001b[0;34m,\u001b[0m \u001b[0mpairwise_matrix\u001b[0m\u001b[0;34m)\u001b[0m\u001b[0;34m:\u001b[0m\u001b[0;34m\u001b[0m\u001b[0;34m\u001b[0m\u001b[0m\n\u001b[0;32m---> 16\u001b[0;31m     \u001b[0mAPTT\u001b[0m \u001b[0;34m=\u001b[0m \u001b[0msum\u001b[0m\u001b[0;34m(\u001b[0m\u001b[0;34m[\u001b[0m\u001b[0mpairwise_matrix\u001b[0m\u001b[0;34m[\u001b[0m\u001b[0mint\u001b[0m\u001b[0;34m(\u001b[0m\u001b[0mpoint\u001b[0m\u001b[0;34m)\u001b[0m\u001b[0;34m]\u001b[0m\u001b[0;34m[\u001b[0m\u001b[0mint\u001b[0m\u001b[0;34m(\u001b[0m\u001b[0mother_point\u001b[0m\u001b[0;34m)\u001b[0m\u001b[0;34m]\u001b[0m \u001b[0;32mfor\u001b[0m \u001b[0mother_point\u001b[0m \u001b[0;32min\u001b[0m \u001b[0mids\u001b[0m\u001b[0;34m]\u001b[0m\u001b[0;34m)\u001b[0m\u001b[0;34m\u001b[0m\u001b[0;34m\u001b[0m\u001b[0m\n\u001b[0m\u001b[1;32m     17\u001b[0m     \u001b[0;32mreturn\u001b[0m \u001b[0mAPTT\u001b[0m \u001b[0;34m/\u001b[0m \u001b[0;34m(\u001b[0m\u001b[0mlen\u001b[0m\u001b[0;34m(\u001b[0m\u001b[0mids\u001b[0m\u001b[0;34m)\u001b[0m \u001b[0;34m-\u001b[0m \u001b[0;36m1\u001b[0m\u001b[0;34m)\u001b[0m \u001b[0;31m# there are K+1 ids, including point\u001b[0m\u001b[0;34m\u001b[0m\u001b[0;34m\u001b[0m\u001b[0m\n\u001b[1;32m     18\u001b[0m \u001b[0;34m\u001b[0m\u001b[0m\n",
      "\u001b[0;31mIndexError\u001b[0m: list index out of range"
     ]
    }
   ],
   "source": [
    "%%time\n",
    "# state_data = {state:{} for state in states\n",
    "for state in state_fips_dict.keys():\n",
    "    start = dt.datetime.now()\n",
    "    if state != 'louisiana':\n",
    "        continue\n",
    "    print(f\"Working on {state}...\")\n",
    "    fips = state_fips_dict[state]\n",
    "    \n",
    "    ### PATHS ###\n",
    "    KNN_SUM_DM_PATH = f'./20_intermediate_files/{fips}_{state}_knn_sum_dd.dmx'\n",
    "    DM_PATH = f\"./20_intermediate_files/duration_matrix_{state}_{fips}.dmx\"\n",
    "    SHAPEFILE_PATH = f'./Data_2000/Shapefiles/gz_2010_{fips}_500_11_500k/gz_2010_{fips}_500_11_500k.shp'\n",
    "    rvp_fips = str(int(fips))\n",
    "    DEM_RVP_PATH = f\"RVPs/points_D_{rvp_fips}_2_10000_run1.shp\"\n",
    "    REP_RVP_PATH = f\"RVPs/points_R_{rvp_fips}_2_10000_run1.shp\"\n",
    "    \n",
    "    ### SHAPEFILE ###\n",
    "    print(\" -- Reading CD shapefile into memory...\")\n",
    "    state_shp = gpd.read_file(SHAPEFILE_PATH)\n",
    "    NUM_CDs = state_shp[\"CD\"].nunique()\n",
    "    print(f\"    -- There are {NUM_CDs} CDs in {state}\")\n",
    "    CDs = {}\n",
    "    for i in range(1,NUM_CDs+1):\n",
    "        CD = \"{0:0=2d}\".format(i)\n",
    "        CDs[i] = state_shp[state_shp[\"CD\"] == CD]\n",
    "        \n",
    "    ### DURATION MATRICES ###\n",
    "    print(\" -- Reading KNN_SUM duration matrix from memory...\")\n",
    "    travel_time_matrix = tt.read_duration_matrix_from_file(KNN_SUM_DM_PATH)\n",
    "    print(\" -- Reading pairwise duration matrix from memory...\")\n",
    "    pairwise_matrix = tt.read_duration_matrix_from_file(DM_PATH)\n",
    "\n",
    "    ### RVPs ###\n",
    "    print(\" -- Creating RVPs for each CD...\")\n",
    "    rvps_in_CD = {}\n",
    "    rvps = rvp_utils.sample_rvps(DEM_RVP_PATH, REP_RVP_PATH, NUM_CDs*1000)\n",
    "    # rvps_in_region = rvp_utils.find_rvps_in_region(state_shp, rvps)\n",
    "    for i in range(1,NUM_CDs+1):\n",
    "        rvps_in_CD[i] = rvp_utils.find_rvps_in_region(CDs[i], rvps)\n",
    "        \n",
    "#     try:\n",
    "    ### DISTRICT APTTs ###\n",
    "    print(\" -- Computing district APTTs...\")\n",
    "    district_APTTs = {}\n",
    "    for i in tqdm(range(1,NUM_CDs+1)):\n",
    "        ids = tt.return_rvp_ids(rvps_in_CD[i])\n",
    "        district_APTTs[i] = tt.find_APTT_of_region(ids, pairwise_matrix)\n",
    "\n",
    "    state_data[state][\"district_APTTs\"] = district_APTTs\n",
    "\n",
    "    ### BALL APTTs ####\n",
    "    print(\" -- Computing average ball APTTs\")\n",
    "    average_ball_APTTs = {}\n",
    "    for i in tqdm(range(1,NUM_CDs+1)):\n",
    "        ids = tt.return_rvp_ids(rvps_in_CD[i])\n",
    "        average_ball_APTTs[i] = tt.find_avg_APTT_of_all_balls(ids, pairwise_matrix)\n",
    "\n",
    "    state_data[state][\"average_ball_APTTs\"] = average_ball_APTTs\n",
    "    end = dt.datetime.now()\n",
    "    print(f\"Processing {state} took {end-start}\")\n",
    "#     except:\n",
    "#         print(f\"Encountered an error processing {state}\")\n",
    "#         continue"
   ]
  },
  {
   "cell_type": "code",
   "execution_count": 2,
   "metadata": {},
   "outputs": [],
   "source": [
    "state_data = pickle.load(open(\"state_data.p\", \"rb\"))"
   ]
  },
  {
   "cell_type": "code",
   "execution_count": 3,
   "metadata": {},
   "outputs": [
    {
     "data": {
      "text/plain": [
       "{'connecticut': {'district_APTTs': {1: 2432.0639249072506,\n",
       "   2: 3563.099095184155,\n",
       "   3: 2736.399416107564,\n",
       "   4: 2437.9902284712243,\n",
       "   5: 3406.4121451035544},\n",
       "  'average_ball_APTTs': {1: 1499.4717324620055,\n",
       "   2: 2034.3461983671857,\n",
       "   3: 1583.8757057854757,\n",
       "   4: 1613.545678658342,\n",
       "   5: 1772.073193245984}},\n",
       " 'georgia': {'district_APTTs': {1: 11736.450600808173,\n",
       "   2: 9605.047008882957,\n",
       "   3: 8251.047017234454,\n",
       "   4: 3890.4314074791787,\n",
       "   5: 3783.656147708307,\n",
       "   6: 5079.070283513412,\n",
       "   7: 4051.4607468649197,\n",
       "   8: 9322.589139786622,\n",
       "   9: 5462.834190605588,\n",
       "   10: 6768.385807611605,\n",
       "   11: 7074.557364547019,\n",
       "   12: 10855.930082092254,\n",
       "   13: 7146.821315427307},\n",
       "  'average_ball_APTTs': {1: 4467.961243836177,\n",
       "   2: 4350.425957310491,\n",
       "   3: 2716.7744250089236,\n",
       "   4: 1463.9904208042944,\n",
       "   5: 1614.4554662212586,\n",
       "   6: 2017.8506373970063,\n",
       "   7: 1987.2093091145998,\n",
       "   8: 4208.276968652735,\n",
       "   9: 1956.4148551013204,\n",
       "   10: 2148.5739605860877,\n",
       "   11: 2062.8351506409103,\n",
       "   12: 3347.4341901167963,\n",
       "   13: 1821.1757821349327}},\n",
       " 'idaho': {'district_APTTs': {1: 19734.601368167092, 2: 12536.093781170617},\n",
       "  'average_ball_APTTs': {1: 9193.640892980526, 2: 6204.795845827151}},\n",
       " 'iowa': {},\n",
       " 'louisiana': {},\n",
       " 'maine': {'district_APTTs': {1: 6321.978402055898, 2: 9091.320160308609},\n",
       "  'average_ball_APTTs': {1: 4098.212188684567, 2: 4781.695984182773}},\n",
       " 'maryland': {'district_APTTs': {1: 6077.487195076872,\n",
       "   2: 2460.0641522525375,\n",
       "   3: 2518.8310849744166,\n",
       "   4: 2562.294351699789,\n",
       "   5: 3550.261787739654,\n",
       "   6: 5861.415877354814,\n",
       "   7: 2722.1372642636125,\n",
       "   8: 3506.990060358418},\n",
       "  'average_ball_APTTs': {1: 2035.136546097096,\n",
       "   2: 1293.3279107600079,\n",
       "   3: 1352.8372293694306,\n",
       "   4: 1379.0867394152247,\n",
       "   5: 1703.4986226787253,\n",
       "   6: 2285.4049647528955,\n",
       "   7: 1370.956359304732,\n",
       "   8: 1504.1387738168391}},\n",
       " 'new_hampshire': {'district_APTTs': {1: 4564.114398417552,\n",
       "   2: 5184.213623099405},\n",
       "  'average_ball_APTTs': {1: 3052.1889300731677, 2: 3209.68758882404}},\n",
       " 'rhode_island': {'district_APTTs': {1: 1825.6389352412193,\n",
       "   2: 2104.193500590514},\n",
       "  'average_ball_APTTs': {1: 1029.388356947882, 2: 1285.2207355830055}},\n",
       " 'utah': {'district_APTTs': {1: 6151.293171127552,\n",
       "   2: 7991.187832972663,\n",
       "   3: 4061.3179709295746},\n",
       "  'average_ball_APTTs': {1: 2191.3214906251815,\n",
       "   2: 2481.8942604399635,\n",
       "   3: 1588.3205943894282}},\n",
       " 'wisconsin': {'district_APTTs': {1: 5943.567880861799,\n",
       "   2: 6040.348305281402,\n",
       "   3: 10942.691025307577,\n",
       "   4: 3720.5674198796255,\n",
       "   5: 5994.712923796784,\n",
       "   6: 8667.580594975314,\n",
       "   7: 11864.438086788734,\n",
       "   8: 9895.906274893885},\n",
       "  'average_ball_APTTs': {1: 2093.869807459859,\n",
       "   2: 2531.0265564198435,\n",
       "   3: 3985.965315358358,\n",
       "   4: 1398.3117607433574,\n",
       "   5: 2210.6404487905515,\n",
       "   6: 3425.5768986404746,\n",
       "   7: 5582.257627260504,\n",
       "   8: 3844.4427042315856}}}"
      ]
     },
     "execution_count": 3,
     "metadata": {},
     "output_type": "execute_result"
    }
   ],
   "source": [
    "state_data"
   ]
  },
  {
   "cell_type": "code",
   "execution_count": 5,
   "metadata": {},
   "outputs": [
    {
     "name": "stdout",
     "output_type": "stream",
     "text": [
      " -- Reading CD shapefile into memory...\n",
      "    -- There are 13 CDs in georgia\n"
     ]
    }
   ],
   "source": [
    "state=\"georgia\"\n",
    "fips=13\n",
    "SHAPEFILE_PATH = f'./Data_2000/Shapefiles/gz_2010_{fips}_500_11_500k/gz_2010_{fips}_500_11_500k.shp'\n",
    "\n",
    "### SHAPEFILE ###\n",
    "print(\" -- Reading CD shapefile into memory...\")\n",
    "state_shp = gpd.read_file(SHAPEFILE_PATH)\n",
    "NUM_CDs = state_shp[\"CD\"].nunique()\n",
    "print(f\"    -- There are {NUM_CDs} CDs in {state}\")\n",
    "CDs = {}\n",
    "for i in range(1,NUM_CDs+1):\n",
    "    CD = \"{0:0=2d}\".format(i)\n",
    "    CDs[i] = state_shp[state_shp[\"CD\"] == CD]"
   ]
  },
  {
   "cell_type": "code",
   "execution_count": 40,
   "metadata": {},
   "outputs": [
    {
     "name": "stdout",
     "output_type": "stream",
     "text": [
      " -- Reading CD shapefile into memory...\n",
      "    -- There are 5 CDs in connecticut\n",
      " -- Reading CD shapefile into memory...\n",
      "    -- There are 13 CDs in georgia\n",
      " -- Reading CD shapefile into memory...\n",
      "    -- There are 2 CDs in idaho\n",
      " -- Reading CD shapefile into memory...\n",
      "    -- There are 5 CDs in iowa\n",
      " -- Reading CD shapefile into memory...\n",
      "    -- There are 7 CDs in louisana\n",
      " -- Reading CD shapefile into memory...\n",
      "    -- There are 2 CDs in maine\n",
      " -- Reading CD shapefile into memory...\n",
      "    -- There are 8 CDs in maryland\n",
      " -- Reading CD shapefile into memory...\n",
      "    -- There are 2 CDs in new_hampshire\n",
      " -- Reading CD shapefile into memory...\n",
      "    -- There are 2 CDs in rhode_island\n",
      " -- Reading CD shapefile into memory...\n",
      "    -- There are 3 CDs in utah\n",
      " -- Reading CD shapefile into memory...\n",
      "    -- There are 8 CDs in wisconsin\n"
     ]
    }
   ],
   "source": [
    "CD_areas = {}\n",
    "for state in states:\n",
    "    area_dict = {}\n",
    "    fips = state_fips_dict[state]\n",
    "    SHAPEFILE_PATH = f'./Data_2000/Shapefiles/gz_2010_{fips}_500_11_500k/gz_2010_{fips}_500_11_500k.shp'\n",
    "\n",
    "    ### SHAPEFILE ###\n",
    "    print(\" -- Reading CD shapefile into memory...\")\n",
    "    state_shp = gpd.read_file(SHAPEFILE_PATH)\n",
    "    NUM_CDs = state_shp[\"CD\"].nunique()\n",
    "    print(f\"    -- There are {NUM_CDs} CDs in {state}\")\n",
    "    CDs = {}\n",
    "    for i in range(1,NUM_CDs+1):\n",
    "        CD = \"{0:0=2d}\".format(i)\n",
    "        CDs[i] = state_shp[state_shp[\"CD\"] == CD]\n",
    "        area_dict[i] = CDs[i][\"CENSUSAREA\"][i-1]\n",
    "    CD_areas[state] = area_dict"
   ]
  },
  {
   "cell_type": "code",
   "execution_count": 41,
   "metadata": {},
   "outputs": [
    {
     "data": {
      "text/plain": [
       "{1: 652.872, 2: 2027.335, 3: 458.01, 4: 456.271, 5: 1247.867}"
      ]
     },
     "execution_count": 41,
     "metadata": {},
     "output_type": "execute_result"
    }
   ],
   "source": [
    "CD_areas['connecticut']"
   ]
  },
  {
   "cell_type": "code",
   "execution_count": 42,
   "metadata": {},
   "outputs": [
    {
     "data": {
      "text/plain": [
       "{1: 11223.403,\n",
       " 2: 10813.138,\n",
       " 3: 4098.335,\n",
       " 4: 328.484,\n",
       " 5: 245.073,\n",
       " 6: 677.116,\n",
       " 7: 962.777,\n",
       " 8: 7131.704,\n",
       " 9: 4328.876,\n",
       " 10: 5851.052,\n",
       " 11: 2688.263,\n",
       " 12: 8595.065,\n",
       " 13: 570.2}"
      ]
     },
     "execution_count": 42,
     "metadata": {},
     "output_type": "execute_result"
    }
   ],
   "source": [
    "CD_areas[\"georgia\"]"
   ]
  },
  {
   "cell_type": "code",
   "execution_count": 43,
   "metadata": {},
   "outputs": [],
   "source": [
    "diversity = {\n",
    "    \"connecticut\": [0.78, 0.59, 0.72, 0.93, 0.74],\n",
    "    \"georgia\": [0.63, 0.62, 0.53, 0.90, 0.99, 0.69, 0.59, 0.64, 0.67, 0.71, 0.63, 0.66, 0.66],\n",
    "    \"idaho\": [0.50, 0.59],\n",
    "    \"iowa\": [0, 0, 0, 0],\n",
    "    \"louisiana\": [0, 0, 0, 0, 0, 0, 0],\n",
    "    \"maine\": [0.52, 0.51],\n",
    "    \"maryland\": [0.58, 0.73, 0.78, 0.89, 0.71, 0.59, 0.93, 0.96],\n",
    "    \"new_hampshire\": [0.56, 0.59],\n",
    "    \"rhode_island\": [0.72, 0.72],\n",
    "    \"utah\": [0.68, 0.68, 0.62],\n",
    "    \"wisconsin\": [0.48, 0.57, 0.52, 0.87, 0.52, 0.47, 0.49, 0.53]\n",
    "}"
   ]
  },
  {
   "cell_type": "code",
   "execution_count": 49,
   "metadata": {},
   "outputs": [],
   "source": [
    "ratios, y = [], []\n",
    "district_APTTs = []\n",
    "avg_ball_APTTs = []\n",
    "district_areas = []\n",
    "for state in state_data.keys():\n",
    "    if state == \"iowa\" or state == \"louisiana\":\n",
    "        continue\n",
    "    for district in range(1, len(state_data[state][\"district_APTTs\"]) + 1):\n",
    "        if diversity[state][district-1] != 0:\n",
    "            district_APTT = state_data[state][\"district_APTTs\"][district]\n",
    "            avg_ball_APTT = state_data[state][\"average_ball_APTTs\"][district]\n",
    "            ratio = district_APTT / avg_ball_APTT\n",
    "            \n",
    "            ratios.append(ratio)\n",
    "            district_APTTs.append(district_APTT)\n",
    "            avg_ball_APTTs.append(avg_ball_APTT)\n",
    "            district_areas.append(CD_areas[state][district])\n",
    "            y.append(diversity[state][district-1])"
   ]
  },
  {
   "cell_type": "code",
   "execution_count": 51,
   "metadata": {},
   "outputs": [
    {
     "data": {
      "image/png": "[encoded data removed]",
      "text/plain": [
       "<Figure size 432x288 with 1 Axes>"
      ]
     },
     "metadata": {
      "needs_background": "light"
     },
     "output_type": "display_data"
    }
   ],
   "source": [
    "ax = sns.scatterplot(x=ratios, \n",
    "                     y=y)\n",
    "ax.set_xlabel(\"ratio\")\n",
    "ax.set_ylabel(\"spatial diversity\")\n",
    "plt.show()"
   ]
  },
  {
   "cell_type": "code",
   "execution_count": 52,
   "metadata": {},
   "outputs": [
    {
     "data": {
      "image/png": "[encoded data removed]",
      "text/plain": [
       "<Figure size 432x288 with 1 Axes>"
      ]
     },
     "metadata": {
      "needs_background": "light"
     },
     "output_type": "display_data"
    }
   ],
   "source": [
    "ax = sns.scatterplot(x=district_APTTs, \n",
    "                     y=y)\n",
    "ax.set_xlabel(\"district APTTs\")\n",
    "ax.set_ylabel(\"spatial diversity\")\n",
    "plt.show()"
   ]
  },
  {
   "cell_type": "code",
   "execution_count": 53,
   "metadata": {},
   "outputs": [
    {
     "data": {
      "image/png": "[encoded data removed]",
      "text/plain": [
       "<Figure size 432x288 with 1 Axes>"
      ]
     },
     "metadata": {
      "needs_background": "light"
     },
     "output_type": "display_data"
    }
   ],
   "source": [
    "ax = sns.scatterplot(x=avg_ball_APTTs, \n",
    "                     y=y)\n",
    "ax.set_xlabel(\"avg. ball APTTs\")\n",
    "ax.set_ylabel(\"spatial diversity\")\n",
    "plt.show()"
   ]
  },
  {
   "cell_type": "code",
   "execution_count": 54,
   "metadata": {},
   "outputs": [
    {
     "data": {
      "image/png": "[encoded data removed]",
      "text/plain": [
       "<Figure size 432x288 with 1 Axes>"
      ]
     },
     "metadata": {
      "needs_background": "light"
     },
     "output_type": "display_data"
    }
   ],
   "source": [
    "ax = sns.scatterplot(x=district_areas, \n",
    "                     y=y)\n",
    "ax.set_xlabel(\"congressional district areas\")\n",
    "ax.set_ylabel(\"spatial diversity\")\n",
    "plt.show()"
   ]
  },
  {
   "cell_type": "code",
   "execution_count": null,
   "metadata": {},
   "outputs": [],
   "source": []
  }
 ],
 "metadata": {
  "kernelspec": {
   "display_name": "Python 3",
   "language": "python",
   "name": "python3"
  },
  "language_info": {
   "codemirror_mode": {
    "name": "ipython",
    "version": 3
   },
   "file_extension": ".py",
   "mimetype": "text/x-python",
   "name": "python",
   "nbconvert_exporter": "python",
   "pygments_lexer": "ipython3",
   "version": "3.8.5"
  }
 },
 "nbformat": 4,
 "nbformat_minor": 4
}
