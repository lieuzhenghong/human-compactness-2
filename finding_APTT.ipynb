{
 "cells": [
  {
   "cell_type": "code",
   "execution_count": 8,
   "metadata": {},
   "outputs": [],
   "source": [
    "import geopandas as gpd\n",
    "import human_compactness_utils as hc_utils\n",
    "import sys\n",
    "import distance_matrix\n",
    "import rvp_utils"
   ]
  },
  {
   "cell_type": "code",
   "execution_count": 9,
   "metadata": {},
   "outputs": [],
   "source": [
    "state_name = 'georgia'\n",
    "state_fips = '13'\n",
    "DD_PATH = f'./20_intermediate_files/{state_fips}_{state_name}_tract_dds.json'\n",
    "DM_PATH = f'./20_intermediate_files/{state_fips}_{state_name}_knn_sum_dd.dmx'\n",
    "DURATION_DICT = hc_utils.read_tract_duration_json(DD_PATH)\n",
    "SHAPEFILE_PATH = f'./Data_2000/Shapefiles/ga_2010_cds/ga_2010_cds.shp'\n",
    "DEM_RVP_PATH = \"RVPs/points_D_13_2_10000_run1.shp\"\n",
    "REP_RVP_PATH = \"RVPs/points_R_13_2_10000_run1.shp\""
   ]
  },
  {
   "cell_type": "code",
   "execution_count": 44,
   "metadata": {},
   "outputs": [],
   "source": [
    "PAIRWISE_DM_PATH = f'./20_intermediate_files/duration_matrix_{state_name}_{state_fips}.dmx'"
   ]
  },
  {
   "cell_type": "code",
   "execution_count": null,
   "metadata": {},
   "outputs": [],
   "source": []
  },
  {
   "cell_type": "code",
   "execution_count": 10,
   "metadata": {},
   "outputs": [
    {
     "name": "stdout",
     "output_type": "stream",
     "text": [
      "Reading tract shapefile into memory...\n"
     ]
    }
   ],
   "source": [
    "print(\"Reading tract shapefile into memory...\")\n",
    "state_shp = gpd.read_file(SHAPEFILE_PATH)"
   ]
  },
  {
   "cell_type": "code",
   "execution_count": 12,
   "metadata": {},
   "outputs": [
    {
     "data": {
      "text/html": [
       "<div>\n",
       "<style scoped>\n",
       "    .dataframe tbody tr th:only-of-type {\n",
       "        vertical-align: middle;\n",
       "    }\n",
       "\n",
       "    .dataframe tbody tr th {\n",
       "        vertical-align: top;\n",
       "    }\n",
       "\n",
       "    .dataframe thead th {\n",
       "        text-align: right;\n",
       "    }\n",
       "</style>\n",
       "<table border=\"1\" class=\"dataframe\">\n",
       "  <thead>\n",
       "    <tr style=\"text-align: right;\">\n",
       "      <th></th>\n",
       "      <th>GEO_ID</th>\n",
       "      <th>STATE</th>\n",
       "      <th>CD</th>\n",
       "      <th>NAME</th>\n",
       "      <th>LSAD</th>\n",
       "      <th>CENSUSAREA</th>\n",
       "      <th>geometry</th>\n",
       "    </tr>\n",
       "  </thead>\n",
       "  <tbody>\n",
       "    <tr>\n",
       "      <th>6</th>\n",
       "      <td>5001100US1307</td>\n",
       "      <td>13</td>\n",
       "      <td>07</td>\n",
       "      <td>7</td>\n",
       "      <td>CD</td>\n",
       "      <td>962.777</td>\n",
       "      <td>POLYGON ((-84.16627 33.86737, -84.16236 33.871...</td>\n",
       "    </tr>\n",
       "  </tbody>\n",
       "</table>\n",
       "</div>"
      ],
      "text/plain": [
       "          GEO_ID STATE  CD NAME LSAD  CENSUSAREA  \\\n",
       "6  5001100US1307    13  07    7   CD     962.777   \n",
       "\n",
       "                                            geometry  \n",
       "6  POLYGON ((-84.16627 33.86737, -84.16236 33.871...  "
      ]
     },
     "execution_count": 12,
     "metadata": {},
     "output_type": "execute_result"
    }
   ],
   "source": [
    "GA_07 = state_shp[state_shp[\"CD\"] == \"07\"]"
   ]
  },
  {
   "cell_type": "code",
   "execution_count": 20,
   "metadata": {},
   "outputs": [
    {
     "name": "stderr",
     "output_type": "stream",
     "text": [
      "/Library/Frameworks/Python.framework/Versions/3.8/lib/python3.8/site-packages/pyproj/crs/crs.py:53: FutureWarning: '+init=<authority>:<code>' syntax is deprecated. '<authority>:<code>' is the preferred initialization method. When making the change, be mindful of axis order changes: https://pyproj4.github.io/pyproj/stable/gotchas.html#axis-order-changes-in-proj-6\n",
      "  return _prepare_from_string(\" \".join(pjargs))\n"
     ]
    }
   ],
   "source": [
    "rvps = rvp_utils.sample_rvps(DEM_RVP_PATH, REP_RVP_PATH, 14*1000)"
   ]
  },
  {
   "cell_type": "code",
   "execution_count": 38,
   "metadata": {},
   "outputs": [],
   "source": [
    "test = rvps[5:]"
   ]
  },
  {
   "cell_type": "code",
   "execution_count": 43,
   "metadata": {},
   "outputs": [
    {
     "data": {
      "text/html": [
       "<div>\n",
       "<style scoped>\n",
       "    .dataframe tbody tr th:only-of-type {\n",
       "        vertical-align: middle;\n",
       "    }\n",
       "\n",
       "    .dataframe tbody tr th {\n",
       "        vertical-align: top;\n",
       "    }\n",
       "\n",
       "    .dataframe thead th {\n",
       "        text-align: right;\n",
       "    }\n",
       "</style>\n",
       "<table border=\"1\" class=\"dataframe\">\n",
       "  <thead>\n",
       "    <tr style=\"text-align: right;\">\n",
       "      <th></th>\n",
       "      <th>index</th>\n",
       "      <th>CID</th>\n",
       "      <th>geometry</th>\n",
       "      <th>party</th>\n",
       "    </tr>\n",
       "  </thead>\n",
       "  <tbody>\n",
       "    <tr>\n",
       "      <th>5</th>\n",
       "      <td>18</td>\n",
       "      <td>3</td>\n",
       "      <td>POINT (-83.23131 31.27936)</td>\n",
       "      <td>R</td>\n",
       "    </tr>\n",
       "    <tr>\n",
       "      <th>6</th>\n",
       "      <td>23</td>\n",
       "      <td>3</td>\n",
       "      <td>POINT (-83.20657 31.23691)</td>\n",
       "      <td>D</td>\n",
       "    </tr>\n",
       "    <tr>\n",
       "      <th>7</th>\n",
       "      <td>28</td>\n",
       "      <td>3</td>\n",
       "      <td>POINT (-83.30861 31.20522)</td>\n",
       "      <td>D</td>\n",
       "    </tr>\n",
       "    <tr>\n",
       "      <th>8</th>\n",
       "      <td>36</td>\n",
       "      <td>3</td>\n",
       "      <td>POINT (-83.25348 31.24455)</td>\n",
       "      <td>R</td>\n",
       "    </tr>\n",
       "    <tr>\n",
       "      <th>9</th>\n",
       "      <td>41</td>\n",
       "      <td>3</td>\n",
       "      <td>POINT (-83.27933 31.23734)</td>\n",
       "      <td>D</td>\n",
       "    </tr>\n",
       "    <tr>\n",
       "      <th>...</th>\n",
       "      <td>...</td>\n",
       "      <td>...</td>\n",
       "      <td>...</td>\n",
       "      <td>...</td>\n",
       "    </tr>\n",
       "    <tr>\n",
       "      <th>13995</th>\n",
       "      <td>77703</td>\n",
       "      <td>2961</td>\n",
       "      <td>POINT (-85.01970 34.78487)</td>\n",
       "      <td>R</td>\n",
       "    </tr>\n",
       "    <tr>\n",
       "      <th>13996</th>\n",
       "      <td>77705</td>\n",
       "      <td>2961</td>\n",
       "      <td>POINT (-85.07395 34.77271)</td>\n",
       "      <td>R</td>\n",
       "    </tr>\n",
       "    <tr>\n",
       "      <th>13997</th>\n",
       "      <td>77710</td>\n",
       "      <td>2961</td>\n",
       "      <td>POINT (-85.05760 34.80097)</td>\n",
       "      <td>R</td>\n",
       "    </tr>\n",
       "    <tr>\n",
       "      <th>13998</th>\n",
       "      <td>77712</td>\n",
       "      <td>2961</td>\n",
       "      <td>POINT (-85.04968 34.79123)</td>\n",
       "      <td>R</td>\n",
       "    </tr>\n",
       "    <tr>\n",
       "      <th>13999</th>\n",
       "      <td>77724</td>\n",
       "      <td>2962</td>\n",
       "      <td>POINT (-84.97755 34.76689)</td>\n",
       "      <td>R</td>\n",
       "    </tr>\n",
       "  </tbody>\n",
       "</table>\n",
       "<p>13995 rows × 4 columns</p>\n",
       "</div>"
      ],
      "text/plain": [
       "       index   CID                    geometry party\n",
       "5         18     3  POINT (-83.23131 31.27936)     R\n",
       "6         23     3  POINT (-83.20657 31.23691)     D\n",
       "7         28     3  POINT (-83.30861 31.20522)     D\n",
       "8         36     3  POINT (-83.25348 31.24455)     R\n",
       "9         41     3  POINT (-83.27933 31.23734)     D\n",
       "...      ...   ...                         ...   ...\n",
       "13995  77703  2961  POINT (-85.01970 34.78487)     R\n",
       "13996  77705  2961  POINT (-85.07395 34.77271)     R\n",
       "13997  77710  2961  POINT (-85.05760 34.80097)     R\n",
       "13998  77712  2961  POINT (-85.04968 34.79123)     R\n",
       "13999  77724  2962  POINT (-84.97755 34.76689)     R\n",
       "\n",
       "[13995 rows x 4 columns]"
      ]
     },
     "execution_count": 43,
     "metadata": {},
     "output_type": "execute_result"
    }
   ],
   "source": [
    "test"
   ]
  },
  {
   "cell_type": "code",
   "execution_count": 39,
   "metadata": {},
   "outputs": [
    {
     "name": "stdout",
     "output_type": "stream",
     "text": [
      "5\n"
     ]
    }
   ],
   "source": [
    "for i in range(len(test)):\n",
    "    print(test.iloc[i].name)\n",
    "    break"
   ]
  },
  {
   "cell_type": "code",
   "execution_count": null,
   "metadata": {},
   "outputs": [],
   "source": []
  },
  {
   "cell_type": "code",
   "execution_count": 17,
   "metadata": {},
   "outputs": [
    {
     "data": {
      "text/html": [
       "<div>\n",
       "<style scoped>\n",
       "    .dataframe tbody tr th:only-of-type {\n",
       "        vertical-align: middle;\n",
       "    }\n",
       "\n",
       "    .dataframe tbody tr th {\n",
       "        vertical-align: top;\n",
       "    }\n",
       "\n",
       "    .dataframe thead th {\n",
       "        text-align: right;\n",
       "    }\n",
       "</style>\n",
       "<table border=\"1\" class=\"dataframe\">\n",
       "  <thead>\n",
       "    <tr style=\"text-align: right;\">\n",
       "      <th></th>\n",
       "      <th>index</th>\n",
       "      <th>CID</th>\n",
       "      <th>geometry</th>\n",
       "      <th>party</th>\n",
       "    </tr>\n",
       "  </thead>\n",
       "  <tbody>\n",
       "    <tr>\n",
       "      <th>0</th>\n",
       "      <td>2</td>\n",
       "      <td>1</td>\n",
       "      <td>POINT (-82.83833 31.29396)</td>\n",
       "      <td>R</td>\n",
       "    </tr>\n",
       "    <tr>\n",
       "      <th>1</th>\n",
       "      <td>10</td>\n",
       "      <td>2</td>\n",
       "      <td>POINT (-84.52502 31.24987)</td>\n",
       "      <td>R</td>\n",
       "    </tr>\n",
       "    <tr>\n",
       "      <th>2</th>\n",
       "      <td>12</td>\n",
       "      <td>2</td>\n",
       "      <td>POINT (-84.50312 31.22851)</td>\n",
       "      <td>D</td>\n",
       "    </tr>\n",
       "    <tr>\n",
       "      <th>3</th>\n",
       "      <td>17</td>\n",
       "      <td>3</td>\n",
       "      <td>POINT (-83.29147 31.14961)</td>\n",
       "      <td>R</td>\n",
       "    </tr>\n",
       "    <tr>\n",
       "      <th>4</th>\n",
       "      <td>17</td>\n",
       "      <td>3</td>\n",
       "      <td>POINT (-83.26052 31.23259)</td>\n",
       "      <td>D</td>\n",
       "    </tr>\n",
       "    <tr>\n",
       "      <th>...</th>\n",
       "      <td>...</td>\n",
       "      <td>...</td>\n",
       "      <td>...</td>\n",
       "      <td>...</td>\n",
       "    </tr>\n",
       "    <tr>\n",
       "      <th>13995</th>\n",
       "      <td>77703</td>\n",
       "      <td>2961</td>\n",
       "      <td>POINT (-85.01970 34.78487)</td>\n",
       "      <td>R</td>\n",
       "    </tr>\n",
       "    <tr>\n",
       "      <th>13996</th>\n",
       "      <td>77705</td>\n",
       "      <td>2961</td>\n",
       "      <td>POINT (-85.07395 34.77271)</td>\n",
       "      <td>R</td>\n",
       "    </tr>\n",
       "    <tr>\n",
       "      <th>13997</th>\n",
       "      <td>77710</td>\n",
       "      <td>2961</td>\n",
       "      <td>POINT (-85.05760 34.80097)</td>\n",
       "      <td>R</td>\n",
       "    </tr>\n",
       "    <tr>\n",
       "      <th>13998</th>\n",
       "      <td>77712</td>\n",
       "      <td>2961</td>\n",
       "      <td>POINT (-85.04968 34.79123)</td>\n",
       "      <td>R</td>\n",
       "    </tr>\n",
       "    <tr>\n",
       "      <th>13999</th>\n",
       "      <td>77724</td>\n",
       "      <td>2962</td>\n",
       "      <td>POINT (-84.97755 34.76689)</td>\n",
       "      <td>R</td>\n",
       "    </tr>\n",
       "  </tbody>\n",
       "</table>\n",
       "<p>14000 rows × 4 columns</p>\n",
       "</div>"
      ],
      "text/plain": [
       "       index   CID                    geometry party\n",
       "0          2     1  POINT (-82.83833 31.29396)     R\n",
       "1         10     2  POINT (-84.52502 31.24987)     R\n",
       "2         12     2  POINT (-84.50312 31.22851)     D\n",
       "3         17     3  POINT (-83.29147 31.14961)     R\n",
       "4         17     3  POINT (-83.26052 31.23259)     D\n",
       "...      ...   ...                         ...   ...\n",
       "13995  77703  2961  POINT (-85.01970 34.78487)     R\n",
       "13996  77705  2961  POINT (-85.07395 34.77271)     R\n",
       "13997  77710  2961  POINT (-85.05760 34.80097)     R\n",
       "13998  77712  2961  POINT (-85.04968 34.79123)     R\n",
       "13999  77724  2962  POINT (-84.97755 34.76689)     R\n",
       "\n",
       "[14000 rows x 4 columns]"
      ]
     },
     "execution_count": 17,
     "metadata": {},
     "output_type": "execute_result"
    }
   ],
   "source": [
    "rvps"
   ]
  },
  {
   "cell_type": "code",
   "execution_count": 5,
   "metadata": {
    "collapsed": true,
    "jupyter": {
     "outputs_hidden": true
    }
   },
   "outputs": [
    {
     "ename": "ImportError",
     "evalue": "Spatial indexes require either `rtree` or `pygeos`. See installation instructions at https://geopandas.org/install.html",
     "output_type": "error",
     "traceback": [
      "\u001b[0;31m---------------------------------------------------------------------------\u001b[0m",
      "\u001b[0;31mImportError\u001b[0m                               Traceback (most recent call last)",
      "\u001b[0;32m<ipython-input-5-24c0ac98fa4d>\u001b[0m in \u001b[0;36m<module>\u001b[0;34m\u001b[0m\n\u001b[0;32m----> 1\u001b[0;31m \u001b[0mrvps_in_region\u001b[0m \u001b[0;34m=\u001b[0m \u001b[0mrvp_utils\u001b[0m\u001b[0;34m.\u001b[0m\u001b[0mfind_rvps_in_region\u001b[0m\u001b[0;34m(\u001b[0m\u001b[0mSHAPEFILE_PATH\u001b[0m\u001b[0;34m,\u001b[0m \u001b[0mrvps\u001b[0m\u001b[0;34m)\u001b[0m\u001b[0;34m\u001b[0m\u001b[0;34m\u001b[0m\u001b[0m\n\u001b[0m",
      "\u001b[0;32m~/Desktop/mggg/compactness_thesis/human-compactness-2/rvp_utils.py\u001b[0m in \u001b[0;36mfind_rvps_in_region\u001b[0;34m(region_shapefile, rvps)\u001b[0m\n\u001b[1;32m     68\u001b[0m     \u001b[0;31m# Do a spatial join to get all the RVPs that are in the region\u001b[0m\u001b[0;34m\u001b[0m\u001b[0;34m\u001b[0m\u001b[0;34m\u001b[0m\u001b[0m\n\u001b[1;32m     69\u001b[0m     \u001b[0;31m# All the RVPs should be in the region\u001b[0m\u001b[0;34m\u001b[0m\u001b[0;34m\u001b[0m\u001b[0;34m\u001b[0m\u001b[0m\n\u001b[0;32m---> 70\u001b[0;31m     \u001b[0mpoints_in_region\u001b[0m \u001b[0;34m=\u001b[0m \u001b[0mgpd\u001b[0m\u001b[0;34m.\u001b[0m\u001b[0msjoin\u001b[0m\u001b[0;34m(\u001b[0m\u001b[0mrvps\u001b[0m\u001b[0;34m,\u001b[0m \u001b[0mgdf\u001b[0m\u001b[0;34m,\u001b[0m \u001b[0mhow\u001b[0m\u001b[0;34m=\u001b[0m\u001b[0;34m\"inner\"\u001b[0m\u001b[0;34m,\u001b[0m \u001b[0mop\u001b[0m\u001b[0;34m=\u001b[0m\u001b[0;34m'within'\u001b[0m\u001b[0;34m)\u001b[0m\u001b[0;34m\u001b[0m\u001b[0;34m\u001b[0m\u001b[0m\n\u001b[0m\u001b[1;32m     71\u001b[0m \u001b[0;34m\u001b[0m\u001b[0m\n\u001b[1;32m     72\u001b[0m     \u001b[0;32mreturn\u001b[0m \u001b[0mpoints_in_region\u001b[0m\u001b[0;34m\u001b[0m\u001b[0;34m\u001b[0m\u001b[0m\n",
      "\u001b[0;32m/Library/Frameworks/Python.framework/Versions/3.8/lib/python3.8/site-packages/geopandas/tools/sjoin.py\u001b[0m in \u001b[0;36msjoin\u001b[0;34m(left_df, right_df, how, op, lsuffix, rsuffix)\u001b[0m\n\u001b[1;32m     80\u001b[0m             \u001b[0;31m# see discussion at https://github.com/geopandas/geopandas/pull/1421\u001b[0m\u001b[0;34m\u001b[0m\u001b[0;34m\u001b[0m\u001b[0;34m\u001b[0m\u001b[0m\n\u001b[1;32m     81\u001b[0m             \u001b[0mpredicate\u001b[0m \u001b[0;34m=\u001b[0m \u001b[0;34m\"contains\"\u001b[0m\u001b[0;34m\u001b[0m\u001b[0;34m\u001b[0m\u001b[0m\n\u001b[0;32m---> 82\u001b[0;31m             \u001b[0msindex\u001b[0m \u001b[0;34m=\u001b[0m \u001b[0mleft_df\u001b[0m\u001b[0;34m.\u001b[0m\u001b[0msindex\u001b[0m\u001b[0;34m\u001b[0m\u001b[0;34m\u001b[0m\u001b[0m\n\u001b[0m\u001b[1;32m     83\u001b[0m             \u001b[0minput_geoms\u001b[0m \u001b[0;34m=\u001b[0m \u001b[0mright_df\u001b[0m\u001b[0;34m.\u001b[0m\u001b[0mgeometry\u001b[0m\u001b[0;34m\u001b[0m\u001b[0;34m\u001b[0m\u001b[0m\n\u001b[1;32m     84\u001b[0m         \u001b[0;32melse\u001b[0m\u001b[0;34m:\u001b[0m\u001b[0;34m\u001b[0m\u001b[0;34m\u001b[0m\u001b[0m\n",
      "\u001b[0;32m/Library/Frameworks/Python.framework/Versions/3.8/lib/python3.8/site-packages/geopandas/base.py\u001b[0m in \u001b[0;36msindex\u001b[0;34m(self)\u001b[0m\n\u001b[1;32m    591\u001b[0m     \u001b[0;32mdef\u001b[0m \u001b[0msindex\u001b[0m\u001b[0;34m(\u001b[0m\u001b[0mself\u001b[0m\u001b[0;34m)\u001b[0m\u001b[0;34m:\u001b[0m\u001b[0;34m\u001b[0m\u001b[0;34m\u001b[0m\u001b[0m\n\u001b[1;32m    592\u001b[0m         \u001b[0;32mif\u001b[0m \u001b[0;32mnot\u001b[0m \u001b[0mself\u001b[0m\u001b[0;34m.\u001b[0m\u001b[0m_sindex_generated\u001b[0m\u001b[0;34m:\u001b[0m\u001b[0;34m\u001b[0m\u001b[0;34m\u001b[0m\u001b[0m\n\u001b[0;32m--> 593\u001b[0;31m             \u001b[0mself\u001b[0m\u001b[0;34m.\u001b[0m\u001b[0m_generate_sindex\u001b[0m\u001b[0;34m(\u001b[0m\u001b[0;34m)\u001b[0m\u001b[0;34m\u001b[0m\u001b[0;34m\u001b[0m\u001b[0m\n\u001b[0m\u001b[1;32m    594\u001b[0m         \u001b[0;32mreturn\u001b[0m \u001b[0mself\u001b[0m\u001b[0;34m.\u001b[0m\u001b[0m_sindex\u001b[0m\u001b[0;34m\u001b[0m\u001b[0;34m\u001b[0m\u001b[0m\n\u001b[1;32m    595\u001b[0m \u001b[0;34m\u001b[0m\u001b[0m\n",
      "\u001b[0;32m/Library/Frameworks/Python.framework/Versions/3.8/lib/python3.8/site-packages/geopandas/base.py\u001b[0m in \u001b[0;36m_generate_sindex\u001b[0;34m(self)\u001b[0m\n\u001b[1;32m     96\u001b[0m \u001b[0;34m\u001b[0m\u001b[0m\n\u001b[1;32m     97\u001b[0m     \u001b[0;32mdef\u001b[0m \u001b[0m_generate_sindex\u001b[0m\u001b[0;34m(\u001b[0m\u001b[0mself\u001b[0m\u001b[0;34m)\u001b[0m\u001b[0;34m:\u001b[0m\u001b[0;34m\u001b[0m\u001b[0;34m\u001b[0m\u001b[0m\n\u001b[0;32m---> 98\u001b[0;31m         \u001b[0msindex_cls\u001b[0m \u001b[0;34m=\u001b[0m \u001b[0mget_sindex_class\u001b[0m\u001b[0;34m(\u001b[0m\u001b[0;34m)\u001b[0m\u001b[0;34m\u001b[0m\u001b[0;34m\u001b[0m\u001b[0m\n\u001b[0m\u001b[1;32m     99\u001b[0m         \u001b[0;32mif\u001b[0m \u001b[0msindex_cls\u001b[0m \u001b[0;32mis\u001b[0m \u001b[0;32mnot\u001b[0m \u001b[0;32mNone\u001b[0m\u001b[0;34m:\u001b[0m\u001b[0;34m\u001b[0m\u001b[0;34m\u001b[0m\u001b[0m\n\u001b[1;32m    100\u001b[0m             \u001b[0m_sindex\u001b[0m \u001b[0;34m=\u001b[0m \u001b[0msindex_cls\u001b[0m\u001b[0;34m(\u001b[0m\u001b[0mself\u001b[0m\u001b[0;34m.\u001b[0m\u001b[0mgeometry\u001b[0m\u001b[0;34m)\u001b[0m\u001b[0;34m\u001b[0m\u001b[0;34m\u001b[0m\u001b[0m\n",
      "\u001b[0;32m/Library/Frameworks/Python.framework/Versions/3.8/lib/python3.8/site-packages/geopandas/sindex.py\u001b[0m in \u001b[0;36mget_sindex_class\u001b[0;34m()\u001b[0m\n\u001b[1;32m     40\u001b[0m     \u001b[0;32mif\u001b[0m \u001b[0mcompat\u001b[0m\u001b[0;34m.\u001b[0m\u001b[0mHAS_RTREE\u001b[0m\u001b[0;34m:\u001b[0m\u001b[0;34m\u001b[0m\u001b[0;34m\u001b[0m\u001b[0m\n\u001b[1;32m     41\u001b[0m         \u001b[0;32mreturn\u001b[0m \u001b[0mRTreeIndex\u001b[0m\u001b[0;34m\u001b[0m\u001b[0;34m\u001b[0m\u001b[0m\n\u001b[0;32m---> 42\u001b[0;31m     raise ImportError(\n\u001b[0m\u001b[1;32m     43\u001b[0m         \u001b[0;34m\"Spatial indexes require either `rtree` or `pygeos`. \"\u001b[0m\u001b[0;34m\u001b[0m\u001b[0;34m\u001b[0m\u001b[0m\n\u001b[1;32m     44\u001b[0m         \u001b[0;34m\"See installation instructions at https://geopandas.org/install.html\"\u001b[0m\u001b[0;34m\u001b[0m\u001b[0;34m\u001b[0m\u001b[0m\n",
      "\u001b[0;31mImportError\u001b[0m: Spatial indexes require either `rtree` or `pygeos`. See installation instructions at https://geopandas.org/install.html"
     ]
    }
   ],
   "source": [
    "rvps_in_region = rvp_utils.find_rvps_in_region(SHAPEFILE_PATH, rvps)"
   ]
  },
  {
   "cell_type": "code",
   "execution_count": null,
   "metadata": {},
   "outputs": [],
   "source": []
  },
  {
   "cell_type": "code",
   "execution_count": 29,
   "metadata": {},
   "outputs": [
    {
     "data": {
      "text/plain": [
       "Index(['GEO_ID', 'STATE', 'CD', 'NAME', 'LSAD', 'CENSUSAREA', 'geometry'], dtype='object')"
      ]
     },
     "execution_count": 29,
     "metadata": {},
     "output_type": "execute_result"
    }
   ],
   "source": [
    "state_shp.columns"
   ]
  },
  {
   "cell_type": "code",
   "execution_count": 33,
   "metadata": {
    "collapsed": true,
    "jupyter": {
     "outputs_hidden": true
    }
   },
   "outputs": [
    {
     "data": {
      "text/html": [
       "<div>\n",
       "<style scoped>\n",
       "    .dataframe tbody tr th:only-of-type {\n",
       "        vertical-align: middle;\n",
       "    }\n",
       "\n",
       "    .dataframe tbody tr th {\n",
       "        vertical-align: top;\n",
       "    }\n",
       "\n",
       "    .dataframe thead th {\n",
       "        text-align: right;\n",
       "    }\n",
       "</style>\n",
       "<table border=\"1\" class=\"dataframe\">\n",
       "  <thead>\n",
       "    <tr style=\"text-align: right;\">\n",
       "      <th></th>\n",
       "      <th>GEO_ID</th>\n",
       "      <th>STATE</th>\n",
       "      <th>CD</th>\n",
       "      <th>NAME</th>\n",
       "      <th>LSAD</th>\n",
       "      <th>CENSUSAREA</th>\n",
       "      <th>geometry</th>\n",
       "    </tr>\n",
       "  </thead>\n",
       "  <tbody>\n",
       "    <tr>\n",
       "      <th>0</th>\n",
       "      <td>5001100US1301</td>\n",
       "      <td>13</td>\n",
       "      <td>01</td>\n",
       "      <td>1</td>\n",
       "      <td>CD</td>\n",
       "      <td>11223.403</td>\n",
       "      <td>POLYGON ((-81.53053 30.72286, -81.53278 30.721...</td>\n",
       "    </tr>\n",
       "    <tr>\n",
       "      <th>1</th>\n",
       "      <td>5001100US1302</td>\n",
       "      <td>13</td>\n",
       "      <td>02</td>\n",
       "      <td>2</td>\n",
       "      <td>CD</td>\n",
       "      <td>10813.138</td>\n",
       "      <td>POLYGON ((-85.12848 31.87741, -85.12843 31.877...</td>\n",
       "    </tr>\n",
       "    <tr>\n",
       "      <th>2</th>\n",
       "      <td>5001100US1303</td>\n",
       "      <td>13</td>\n",
       "      <td>03</td>\n",
       "      <td>3</td>\n",
       "      <td>CD</td>\n",
       "      <td>4098.335</td>\n",
       "      <td>POLYGON ((-85.28456 33.37947, -85.29390 33.428...</td>\n",
       "    </tr>\n",
       "    <tr>\n",
       "      <th>3</th>\n",
       "      <td>5001100US1304</td>\n",
       "      <td>13</td>\n",
       "      <td>04</td>\n",
       "      <td>4</td>\n",
       "      <td>CD</td>\n",
       "      <td>328.484</td>\n",
       "      <td>POLYGON ((-84.16236 33.87100, -84.16627 33.867...</td>\n",
       "    </tr>\n",
       "    <tr>\n",
       "      <th>4</th>\n",
       "      <td>5001100US1305</td>\n",
       "      <td>13</td>\n",
       "      <td>05</td>\n",
       "      <td>5</td>\n",
       "      <td>CD</td>\n",
       "      <td>245.073</td>\n",
       "      <td>POLYGON ((-84.27452 33.83398, -84.27230 33.833...</td>\n",
       "    </tr>\n",
       "    <tr>\n",
       "      <th>5</th>\n",
       "      <td>5001100US1306</td>\n",
       "      <td>13</td>\n",
       "      <td>06</td>\n",
       "      <td>6</td>\n",
       "      <td>CD</td>\n",
       "      <td>677.116</td>\n",
       "      <td>POLYGON ((-84.17980 34.00809, -84.18049 34.004...</td>\n",
       "    </tr>\n",
       "    <tr>\n",
       "      <th>6</th>\n",
       "      <td>5001100US1307</td>\n",
       "      <td>13</td>\n",
       "      <td>07</td>\n",
       "      <td>7</td>\n",
       "      <td>CD</td>\n",
       "      <td>962.777</td>\n",
       "      <td>POLYGON ((-84.16627 33.86737, -84.16236 33.871...</td>\n",
       "    </tr>\n",
       "    <tr>\n",
       "      <th>7</th>\n",
       "      <td>5001100US1308</td>\n",
       "      <td>13</td>\n",
       "      <td>08</td>\n",
       "      <td>8</td>\n",
       "      <td>CD</td>\n",
       "      <td>7131.704</td>\n",
       "      <td>POLYGON ((-83.98865 33.58775, -83.97492 33.602...</td>\n",
       "    </tr>\n",
       "    <tr>\n",
       "      <th>8</th>\n",
       "      <td>5001100US1309</td>\n",
       "      <td>13</td>\n",
       "      <td>09</td>\n",
       "      <td>9</td>\n",
       "      <td>CD</td>\n",
       "      <td>4328.876</td>\n",
       "      <td>POLYGON ((-85.51420 34.98356, -85.46671 34.982...</td>\n",
       "    </tr>\n",
       "    <tr>\n",
       "      <th>9</th>\n",
       "      <td>5001100US1310</td>\n",
       "      <td>13</td>\n",
       "      <td>10</td>\n",
       "      <td>10</td>\n",
       "      <td>CD</td>\n",
       "      <td>5851.052</td>\n",
       "      <td>POLYGON ((-81.97364 33.48266, -81.97354 33.482...</td>\n",
       "    </tr>\n",
       "    <tr>\n",
       "      <th>10</th>\n",
       "      <td>5001100US1311</td>\n",
       "      <td>13</td>\n",
       "      <td>11</td>\n",
       "      <td>11</td>\n",
       "      <td>CD</td>\n",
       "      <td>2688.263</td>\n",
       "      <td>POLYGON ((-85.36184 33.77394, -85.36184 33.773...</td>\n",
       "    </tr>\n",
       "    <tr>\n",
       "      <th>11</th>\n",
       "      <td>5001100US1312</td>\n",
       "      <td>13</td>\n",
       "      <td>12</td>\n",
       "      <td>12</td>\n",
       "      <td>CD</td>\n",
       "      <td>8595.065</td>\n",
       "      <td>POLYGON ((-81.93795 33.34968, -81.93984 33.347...</td>\n",
       "    </tr>\n",
       "    <tr>\n",
       "      <th>12</th>\n",
       "      <td>5001100US1313</td>\n",
       "      <td>13</td>\n",
       "      <td>13</td>\n",
       "      <td>13</td>\n",
       "      <td>CD</td>\n",
       "      <td>570.200</td>\n",
       "      <td>POLYGON ((-84.34981 33.66384, -84.34980 33.664...</td>\n",
       "    </tr>\n",
       "  </tbody>\n",
       "</table>\n",
       "</div>"
      ],
      "text/plain": [
       "           GEO_ID STATE  CD NAME LSAD  CENSUSAREA  \\\n",
       "0   5001100US1301    13  01    1   CD   11223.403   \n",
       "1   5001100US1302    13  02    2   CD   10813.138   \n",
       "2   5001100US1303    13  03    3   CD    4098.335   \n",
       "3   5001100US1304    13  04    4   CD     328.484   \n",
       "4   5001100US1305    13  05    5   CD     245.073   \n",
       "5   5001100US1306    13  06    6   CD     677.116   \n",
       "6   5001100US1307    13  07    7   CD     962.777   \n",
       "7   5001100US1308    13  08    8   CD    7131.704   \n",
       "8   5001100US1309    13  09    9   CD    4328.876   \n",
       "9   5001100US1310    13  10   10   CD    5851.052   \n",
       "10  5001100US1311    13  11   11   CD    2688.263   \n",
       "11  5001100US1312    13  12   12   CD    8595.065   \n",
       "12  5001100US1313    13  13   13   CD     570.200   \n",
       "\n",
       "                                             geometry  \n",
       "0   POLYGON ((-81.53053 30.72286, -81.53278 30.721...  \n",
       "1   POLYGON ((-85.12848 31.87741, -85.12843 31.877...  \n",
       "2   POLYGON ((-85.28456 33.37947, -85.29390 33.428...  \n",
       "3   POLYGON ((-84.16236 33.87100, -84.16627 33.867...  \n",
       "4   POLYGON ((-84.27452 33.83398, -84.27230 33.833...  \n",
       "5   POLYGON ((-84.17980 34.00809, -84.18049 34.004...  \n",
       "6   POLYGON ((-84.16627 33.86737, -84.16236 33.871...  \n",
       "7   POLYGON ((-83.98865 33.58775, -83.97492 33.602...  \n",
       "8   POLYGON ((-85.51420 34.98356, -85.46671 34.982...  \n",
       "9   POLYGON ((-81.97364 33.48266, -81.97354 33.482...  \n",
       "10  POLYGON ((-85.36184 33.77394, -85.36184 33.773...  \n",
       "11  POLYGON ((-81.93795 33.34968, -81.93984 33.347...  \n",
       "12  POLYGON ((-84.34981 33.66384, -84.34980 33.664...  "
      ]
     },
     "execution_count": 33,
     "metadata": {},
     "output_type": "execute_result"
    }
   ],
   "source": [
    "state_shp"
   ]
  },
  {
   "cell_type": "code",
   "execution_count": 8,
   "metadata": {},
   "outputs": [
    {
     "name": "stdout",
     "output_type": "stream",
     "text": [
      "Reading KNN duration matrix file into memory...\n"
     ]
    }
   ],
   "source": [
    "print(\"Reading KNN duration matrix file into memory...\")\n",
    "DMX = distance_matrix.read_duration_matrix_from_file(DM_PATH)"
   ]
  },
  {
   "cell_type": "code",
   "execution_count": 27,
   "metadata": {},
   "outputs": [
    {
     "data": {
      "text/plain": [
       "3000"
      ]
     },
     "execution_count": 27,
     "metadata": {},
     "output_type": "execute_result"
    }
   ],
   "source": [
    "len(DMX[0])"
   ]
  },
  {
   "cell_type": "code",
   "execution_count": 25,
   "metadata": {},
   "outputs": [
    {
     "data": {
      "text/plain": [
       "[0.0, 98.3, 741.5, 1458.2, 2261.9]"
      ]
     },
     "execution_count": 25,
     "metadata": {},
     "output_type": "execute_result"
    }
   ],
   "source": [
    "DMX[0][:5]"
   ]
  },
  {
   "cell_type": "code",
   "execution_count": null,
   "metadata": {},
   "outputs": [],
   "source": []
  }
 ],
 "metadata": {
  "kernelspec": {
   "display_name": "Python 3",
   "language": "python",
   "name": "python3"
  },
  "language_info": {
   "codemirror_mode": {
    "name": "ipython",
    "version": 3
   },
   "file_extension": ".py",
   "mimetype": "text/x-python",
   "name": "python",
   "nbconvert_exporter": "python",
   "pygments_lexer": "ipython3",
   "version": "3.8.5"
  }
 },
 "nbformat": 4,
 "nbformat_minor": 4
}
