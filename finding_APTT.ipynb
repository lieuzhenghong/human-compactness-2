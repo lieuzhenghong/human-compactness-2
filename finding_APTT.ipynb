{
 "cells": [
  {
   "cell_type": "code",
   "execution_count": 1,
   "metadata": {},
   "outputs": [],
   "source": [
    "import geopandas as gpd\n",
    "import human_compactness_utils as hc_utils\n",
    "import sys\n",
    "import distance_matrix\n",
    "import rvp_utils\n",
    "from tqdm import tqdm\n",
    "import numpy as np\n",
    "import pickle\n",
    "import matplotlib.pyplot as plt\n",
    "import seaborn as sns"
   ]
  },
  {
   "cell_type": "code",
   "execution_count": 2,
   "metadata": {},
   "outputs": [],
   "source": [
    "def read_duration_matrix_from_file(filename):\n",
    "    dds = []\n",
    "    with open(filename, 'r') as f:\n",
    "        lines = f.readlines()\n",
    "        for line in lines:\n",
    "            dds.append([float(x) for x in line.split('  ')])\n",
    "    return dds\n",
    "\n",
    "def get_KNN_indices(pairwise_matrix, K, i):\n",
    "    indices = sorted(list(enumerate(pairwise_matrix[i])), key=lambda x:x[1])\n",
    "    return [index for (index, pairwise_TT) in indices[:K+1]]\n",
    "\n",
    "def find_APTT_from_point(point, ids, pairwise_matrix):\n",
    "    APTT = sum([pairwise_matrix[int(point)][int(other_point)] for other_point in ids])\n",
    "    return APTT / (len(ids) - 1) # there are K+1 ids, including point\n",
    "\n",
    "def find_APTT_of_region(ids, pairwise_matrix):\n",
    "    APTT = sum([find_APTT_from_point(point, ids, pairwise_matrix) for point in ids])\n",
    "    return APTT / len(ids) \n",
    "\n",
    "def return_rvp_ids(rvps):\n",
    "    return [rvps.iloc[i].name for i in range(len(rvps))]\n",
    "\n",
    "def find_avg_APTT_of_all_balls(ids, pairwise_matrix):\n",
    "    APTT_of_balls = []\n",
    "    for point in ids:\n",
    "        KNNs_of_point = get_KNN_indices(pairwise_matrix, len(ids), point)\n",
    "        APTT_of_ball = find_APTT_of_region(KNNs_of_point, pairwise_matrix)\n",
    "        APTT_of_balls.append(APTT_of_ball)\n",
    "    return np.mean(APTT_of_balls)"
   ]
  },
  {
   "cell_type": "code",
   "execution_count": 3,
   "metadata": {},
   "outputs": [],
   "source": [
    "state_name = 'georgia'\n",
    "state_fips = '13'\n",
    "NUM_CDs = 13\n",
    "DD_PATH = f'./20_intermediate_files/{state_fips}_{state_name}_tract_dds.json'\n",
    "KNN_SUM_DM_PATH = f'./20_intermediate_files/{state_fips}_{state_name}_knn_sum_dd.dmx'\n",
    "DM_PATH = f\"./20_intermediate_files/duration_matrix_{state_name}_{state_fips}.dmx\"\n",
    "DURATION_DICT = hc_utils.read_tract_duration_json(DD_PATH)\n",
    "SHAPEFILE_PATH = f'./Data_2000/Shapefiles/ga_2010_cds/ga_2010_cds.shp'\n",
    "DEM_RVP_PATH = \"RVPs/points_D_13_2_10000_run1.shp\"\n",
    "REP_RVP_PATH = \"RVPs/points_R_13_2_10000_run1.shp\""
   ]
  },
  {
   "cell_type": "code",
   "execution_count": 4,
   "metadata": {},
   "outputs": [
    {
     "name": "stdout",
     "output_type": "stream",
     "text": [
      "Reading tract shapefile into memory...\n"
     ]
    }
   ],
   "source": [
    "print(\"Reading tract shapefile into memory...\")\n",
    "state_shp = gpd.read_file(SHAPEFILE_PATH)\n",
    "# GA_07 = state_shp[state_shp[\"CD\"] == \"07\"]"
   ]
  },
  {
   "cell_type": "code",
   "execution_count": 5,
   "metadata": {},
   "outputs": [],
   "source": [
    "CDs = {}\n",
    "for i in range(1,NUM_CDs+1):\n",
    "    CD = \"{0:0=2d}\".format(i)\n",
    "    CDs[i] = state_shp[state_shp[\"CD\"] == CD]"
   ]
  },
  {
   "cell_type": "code",
   "execution_count": 6,
   "metadata": {},
   "outputs": [
    {
     "name": "stdout",
     "output_type": "stream",
     "text": [
      "Reading KNN_SUM duration matrix from memory...\n"
     ]
    }
   ],
   "source": [
    "print(\"Reading KNN_SUM duration matrix from memory...\")\n",
    "travel_time_matrix = read_duration_matrix_from_file(KNN_SUM_DM_PATH)"
   ]
  },
  {
   "cell_type": "code",
   "execution_count": 7,
   "metadata": {},
   "outputs": [
    {
     "name": "stdout",
     "output_type": "stream",
     "text": [
      "Reading pairwise duration matrix from memory...\n"
     ]
    }
   ],
   "source": [
    "print(\"Reading pairwise duration matrix from memory...\")\n",
    "pairwise_matrix = read_duration_matrix_from_file(DM_PATH)"
   ]
  },
  {
   "cell_type": "code",
   "execution_count": 8,
   "metadata": {
    "collapsed": true,
    "jupyter": {
     "outputs_hidden": true
    }
   },
   "outputs": [
    {
     "name": "stdout",
     "output_type": "stream",
     "text": [
      "Creating RVPs for each CD...\n"
     ]
    },
    {
     "name": "stderr",
     "output_type": "stream",
     "text": [
      "/Users/gabe/miniconda3/lib/python3.8/site-packages/pyproj/crs/crs.py:53: FutureWarning: '+init=<authority>:<code>' syntax is deprecated. '<authority>:<code>' is the preferred initialization method. When making the change, be mindful of axis order changes: https://pyproj4.github.io/pyproj/stable/gotchas.html#axis-order-changes-in-proj-6\n",
      "  return _prepare_from_string(\" \".join(pjargs))\n",
      "  8%|▊         | 1/13 [00:00<00:10,  1.18it/s]/Users/gabe/miniconda3/lib/python3.8/site-packages/pyproj/crs/crs.py:53: FutureWarning: '+init=<authority>:<code>' syntax is deprecated. '<authority>:<code>' is the preferred initialization method. When making the change, be mindful of axis order changes: https://pyproj4.github.io/pyproj/stable/gotchas.html#axis-order-changes-in-proj-6\n",
      "  return _prepare_from_string(\" \".join(pjargs))\n",
      " 15%|█▌        | 2/13 [00:01<00:07,  1.54it/s]/Users/gabe/miniconda3/lib/python3.8/site-packages/pyproj/crs/crs.py:53: FutureWarning: '+init=<authority>:<code>' syntax is deprecated. '<authority>:<code>' is the preferred initialization method. When making the change, be mindful of axis order changes: https://pyproj4.github.io/pyproj/stable/gotchas.html#axis-order-changes-in-proj-6\n",
      "  return _prepare_from_string(\" \".join(pjargs))\n",
      " 23%|██▎       | 3/13 [00:01<00:05,  1.98it/s]/Users/gabe/miniconda3/lib/python3.8/site-packages/pyproj/crs/crs.py:53: FutureWarning: '+init=<authority>:<code>' syntax is deprecated. '<authority>:<code>' is the preferred initialization method. When making the change, be mindful of axis order changes: https://pyproj4.github.io/pyproj/stable/gotchas.html#axis-order-changes-in-proj-6\n",
      "  return _prepare_from_string(\" \".join(pjargs))\n",
      " 31%|███       | 4/13 [00:01<00:03,  2.48it/s]/Users/gabe/miniconda3/lib/python3.8/site-packages/pyproj/crs/crs.py:53: FutureWarning: '+init=<authority>:<code>' syntax is deprecated. '<authority>:<code>' is the preferred initialization method. When making the change, be mindful of axis order changes: https://pyproj4.github.io/pyproj/stable/gotchas.html#axis-order-changes-in-proj-6\n",
      "  return _prepare_from_string(\" \".join(pjargs))\n",
      " 38%|███▊      | 5/13 [00:01<00:02,  3.02it/s]/Users/gabe/miniconda3/lib/python3.8/site-packages/pyproj/crs/crs.py:53: FutureWarning: '+init=<authority>:<code>' syntax is deprecated. '<authority>:<code>' is the preferred initialization method. When making the change, be mindful of axis order changes: https://pyproj4.github.io/pyproj/stable/gotchas.html#axis-order-changes-in-proj-6\n",
      "  return _prepare_from_string(\" \".join(pjargs))\n",
      " 46%|████▌     | 6/13 [00:01<00:02,  3.50it/s]/Users/gabe/miniconda3/lib/python3.8/site-packages/pyproj/crs/crs.py:53: FutureWarning: '+init=<authority>:<code>' syntax is deprecated. '<authority>:<code>' is the preferred initialization method. When making the change, be mindful of axis order changes: https://pyproj4.github.io/pyproj/stable/gotchas.html#axis-order-changes-in-proj-6\n",
      "  return _prepare_from_string(\" \".join(pjargs))\n",
      " 54%|█████▍    | 7/13 [00:01<00:01,  3.82it/s]/Users/gabe/miniconda3/lib/python3.8/site-packages/pyproj/crs/crs.py:53: FutureWarning: '+init=<authority>:<code>' syntax is deprecated. '<authority>:<code>' is the preferred initialization method. When making the change, be mindful of axis order changes: https://pyproj4.github.io/pyproj/stable/gotchas.html#axis-order-changes-in-proj-6\n",
      "  return _prepare_from_string(\" \".join(pjargs))\n",
      " 62%|██████▏   | 8/13 [00:02<00:01,  4.17it/s]/Users/gabe/miniconda3/lib/python3.8/site-packages/pyproj/crs/crs.py:53: FutureWarning: '+init=<authority>:<code>' syntax is deprecated. '<authority>:<code>' is the preferred initialization method. When making the change, be mindful of axis order changes: https://pyproj4.github.io/pyproj/stable/gotchas.html#axis-order-changes-in-proj-6\n",
      "  return _prepare_from_string(\" \".join(pjargs))\n",
      " 69%|██████▉   | 9/13 [00:02<00:00,  4.50it/s]/Users/gabe/miniconda3/lib/python3.8/site-packages/pyproj/crs/crs.py:53: FutureWarning: '+init=<authority>:<code>' syntax is deprecated. '<authority>:<code>' is the preferred initialization method. When making the change, be mindful of axis order changes: https://pyproj4.github.io/pyproj/stable/gotchas.html#axis-order-changes-in-proj-6\n",
      "  return _prepare_from_string(\" \".join(pjargs))\n",
      " 77%|███████▋  | 10/13 [00:02<00:00,  4.75it/s]/Users/gabe/miniconda3/lib/python3.8/site-packages/pyproj/crs/crs.py:53: FutureWarning: '+init=<authority>:<code>' syntax is deprecated. '<authority>:<code>' is the preferred initialization method. When making the change, be mindful of axis order changes: https://pyproj4.github.io/pyproj/stable/gotchas.html#axis-order-changes-in-proj-6\n",
      "  return _prepare_from_string(\" \".join(pjargs))\n",
      " 85%|████████▍ | 11/13 [00:02<00:00,  5.13it/s]/Users/gabe/miniconda3/lib/python3.8/site-packages/pyproj/crs/crs.py:53: FutureWarning: '+init=<authority>:<code>' syntax is deprecated. '<authority>:<code>' is the preferred initialization method. When making the change, be mindful of axis order changes: https://pyproj4.github.io/pyproj/stable/gotchas.html#axis-order-changes-in-proj-6\n",
      "  return _prepare_from_string(\" \".join(pjargs))\n",
      " 92%|█████████▏| 12/13 [00:02<00:00,  5.37it/s]/Users/gabe/miniconda3/lib/python3.8/site-packages/pyproj/crs/crs.py:53: FutureWarning: '+init=<authority>:<code>' syntax is deprecated. '<authority>:<code>' is the preferred initialization method. When making the change, be mindful of axis order changes: https://pyproj4.github.io/pyproj/stable/gotchas.html#axis-order-changes-in-proj-6\n",
      "  return _prepare_from_string(\" \".join(pjargs))\n",
      "100%|██████████| 13/13 [00:02<00:00,  4.38it/s]\n"
     ]
    }
   ],
   "source": [
    "print(\"Creating RVPs for each CD...\")\n",
    "rvps_in_CD = {}\n",
    "rvps = rvp_utils.sample_rvps(DEM_RVP_PATH, REP_RVP_PATH, 14*1000)\n",
    "# rvps_in_region = rvp_utils.find_rvps_in_region(state_shp, rvps)\n",
    "for i in tqdm(range(1,NUM_CDs+1)):\n",
    "    rvps_in_CD[i] = rvp_utils.find_rvps_in_region(CDs[i], rvps)"
   ]
  },
  {
   "cell_type": "code",
   "execution_count": 11,
   "metadata": {},
   "outputs": [
    {
     "name": "stderr",
     "output_type": "stream",
     "text": [
      "100%|██████████| 13/13 [00:04<00:00,  3.25it/s]\n"
     ]
    }
   ],
   "source": [
    "district_APTTs = {}\n",
    "for i in tqdm(range(1,NUM_CDs+1)):\n",
    "    ids = return_rvp_ids(rvps_in_CD[i])\n",
    "    district_APTTs[i] = find_APTT_of_region(ids, pairwise_matrix)"
   ]
  },
  {
   "cell_type": "markdown",
   "metadata": {},
   "source": [
    "sanity check to see which districts are which, and save stuff"
   ]
  },
  {
   "cell_type": "code",
   "execution_count": 12,
   "metadata": {},
   "outputs": [
    {
     "data": {
      "text/plain": [
       "{1: 11156.78437732537,\n",
       " 2: 9702.527348784894,\n",
       " 3: 8126.350251768657,\n",
       " 4: 2763.0481178374257,\n",
       " 5: 3337.764071170826,\n",
       " 6: 3947.2584704321475,\n",
       " 7: 4047.619518139456,\n",
       " 8: 8681.167452217478,\n",
       " 9: 7945.897854719467,\n",
       " 10: 7937.717834476381,\n",
       " 11: 4572.552473890781,\n",
       " 12: 10899.965784317774,\n",
       " 13: 6295.972689604351}"
      ]
     },
     "execution_count": 12,
     "metadata": {},
     "output_type": "execute_result"
    }
   ],
   "source": [
    "district_APTTs"
   ]
  },
  {
   "cell_type": "markdown",
   "metadata": {},
   "source": [
    "Checking the APTT of GA-07"
   ]
  },
  {
   "cell_type": "code",
   "execution_count": 16,
   "metadata": {},
   "outputs": [
    {
     "name": "stderr",
     "output_type": "stream",
     "text": [
      "100%|██████████| 13/13 [2:46:04<00:00, 766.53s/it]  "
     ]
    },
    {
     "name": "stdout",
     "output_type": "stream",
     "text": [
      "CPU times: user 59min 50s, sys: 1min 1s, total: 1h 52s\n",
      "Wall time: 2h 46min 4s\n"
     ]
    },
    {
     "name": "stderr",
     "output_type": "stream",
     "text": [
      "\n"
     ]
    }
   ],
   "source": [
    "%%time\n",
    "average_ball_APTTs = {}\n",
    "for i in tqdm(range(1,NUM_CDs+1)):\n",
    "    ids = return_rvp_ids(rvps_in_CD[i])\n",
    "    average_ball_APTTs[i] = find_avg_APTT_of_all_balls(ids, pairwise_matrix)"
   ]
  },
  {
   "cell_type": "markdown",
   "metadata": {},
   "source": [
    "^ the above should take ~40min * 13 = 9 hours"
   ]
  },
  {
   "cell_type": "code",
   "execution_count": 17,
   "metadata": {},
   "outputs": [
    {
     "data": {
      "text/plain": [
       "{1: 4879.312532550853,\n",
       " 2: 4674.957948828636,\n",
       " 3: 2990.0385342365857,\n",
       " 4: 1262.941813209498,\n",
       " 5: 1474.6949565452528,\n",
       " 6: 1695.3510558350001,\n",
       " 7: 2114.780797258487,\n",
       " 8: 4434.260450606235,\n",
       " 9: 2949.5270582061034,\n",
       " 10: 2933.4593964552914,\n",
       " 11: 1808.9823807459168,\n",
       " 12: 3737.087727651739,\n",
       " 13: 1749.1695166293796}"
      ]
     },
     "execution_count": 17,
     "metadata": {},
     "output_type": "execute_result"
    }
   ],
   "source": [
    "average_ball_APTTs"
   ]
  },
  {
   "cell_type": "code",
   "execution_count": 18,
   "metadata": {},
   "outputs": [],
   "source": [
    "# pickle.dump(average_ball_APTTs, open(\"average_balls.p\", \"wb\"))\n",
    "# pickle.dump(district_APTTs, open(\"district_APTTs.p\", \"wb\"))"
   ]
  },
  {
   "cell_type": "code",
   "execution_count": 9,
   "metadata": {},
   "outputs": [],
   "source": [
    "average_ball_APTTs = pickle.load(open(\"average_balls.p\", \"rb\"))\n",
    "district_APTTs = pickle.load(open(\"district_APTTs.p\", \"rb\"))"
   ]
  },
  {
   "cell_type": "code",
   "execution_count": 10,
   "metadata": {},
   "outputs": [
    {
     "name": "stdout",
     "output_type": "stream",
     "text": [
      "CD 1: district_APTT / average_ball_APTT = 2.2865484231428646\n",
      "CD 2: district_APTT / average_ball_APTT = 2.075425587777955\n",
      "CD 3: district_APTT / average_ball_APTT = 2.717807867263313\n",
      "CD 4: district_APTT / average_ball_APTT = 2.187787346129373\n",
      "CD 5: district_APTT / average_ball_APTT = 2.2633589789919393\n",
      "CD 6: district_APTT / average_ball_APTT = 2.328283842362094\n",
      "CD 7: district_APTT / average_ball_APTT = 1.913966460914824\n",
      "CD 8: district_APTT / average_ball_APTT = 1.9577486593126532\n",
      "CD 9: district_APTT / average_ball_APTT = 2.6939565896208957\n",
      "CD 10: district_APTT / average_ball_APTT = 2.705923880885514\n",
      "CD 11: district_APTT / average_ball_APTT = 2.5276932061689465\n",
      "CD 12: district_APTT / average_ball_APTT = 2.9167005376047053\n",
      "CD 13: district_APTT / average_ball_APTT = 3.5994068212076926\n"
     ]
    }
   ],
   "source": [
    "times = []\n",
    "for i in range(1,NUM_CDs+1):\n",
    "    print(f\"CD {i}: district_APTT / average_ball_APTT = {district_APTTs[i]/average_ball_APTTs[i]}\")\n",
    "    times.append(district_APTTs[i]/average_ball_APTTs[i])"
   ]
  },
  {
   "cell_type": "code",
   "execution_count": 29,
   "metadata": {},
   "outputs": [
    {
     "data": {
      "text/plain": [
       "2.474969861644828"
      ]
     },
     "execution_count": 29,
     "metadata": {},
     "output_type": "execute_result"
    }
   ],
   "source": [
    "np.mean(times)"
   ]
  },
  {
   "cell_type": "code",
   "execution_count": 30,
   "metadata": {},
   "outputs": [
    {
     "data": {
      "text/plain": [
       "0.44277794958873645"
      ]
     },
     "execution_count": 30,
     "metadata": {},
     "output_type": "execute_result"
    }
   ],
   "source": [
    "np.std(times)"
   ]
  },
  {
   "cell_type": "code",
   "execution_count": 39,
   "metadata": {},
   "outputs": [
    {
     "name": "stderr",
     "output_type": "stream",
     "text": [
      "/Users/gabe/miniconda3/lib/python3.8/site-packages/seaborn/_decorators.py:36: FutureWarning: Pass the following variables as keyword args: x, y. From version 0.12, the only valid positional argument will be `data`, and passing other arguments without an explicit keyword will result in an error or misinterpretation.\n",
      "  warnings.warn(\n"
     ]
    },
    {
     "data": {
      "text/plain": [
       "Text(0, 0.5, 'District APTT / Average Ball APTT')"
      ]
     },
     "execution_count": 39,
     "metadata": {},
     "output_type": "execute_result"
    },
    {
     "data": {
      "image/png": "[encoded data removed]",
      "text/plain": [
       "<Figure size 432x288 with 1 Axes>"
      ]
     },
     "metadata": {
      "needs_background": "light"
     },
     "output_type": "display_data"
    }
   ],
   "source": [
    "# Looking at GA-03, 04, 05, 07 (except for 03, all are not on boundary...)\n",
    "factors = [district_APTTs[i]/average_ball_APTTs[i] for i in [3,4,5,7]]\n",
    "spatials = [0.53, 0.90, 0.99, 0.59]\n",
    "ax = sns.scatterplot(spatials, factors)\n",
    "ax.set_xlabel(\"Spatial Diversity\")\n",
    "ax.set_ylabel(\"District APTT / Average Ball APTT\")"
   ]
  },
  {
   "cell_type": "code",
   "execution_count": 34,
   "metadata": {},
   "outputs": [
    {
     "data": {
      "text/plain": [
       "[2.717807867263313, 2.187787346129373, 2.2633589789919393, 1.913966460914824]"
      ]
     },
     "execution_count": 34,
     "metadata": {},
     "output_type": "execute_result"
    }
   ],
   "source": [
    "factors"
   ]
  },
  {
   "cell_type": "code",
   "execution_count": null,
   "metadata": {},
   "outputs": [],
   "source": []
  }
 ],
 "metadata": {
  "kernelspec": {
   "display_name": "Python 3",
   "language": "python",
   "name": "python3"
  },
  "language_info": {
   "codemirror_mode": {
    "name": "ipython",
    "version": 3
   },
   "file_extension": ".py",
   "mimetype": "text/x-python",
   "name": "python",
   "nbconvert_exporter": "python",
   "pygments_lexer": "ipython3",
   "version": "3.8.5"
  }
 },
 "nbformat": 4,
 "nbformat_minor": 4
}
